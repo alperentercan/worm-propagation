{
 "cells": [
  {
   "cell_type": "code",
   "execution_count": 23,
   "metadata": {
    "ExecuteTime": {
     "end_time": "2021-02-13T19:38:21.579544Z",
     "start_time": "2021-02-13T19:38:21.574121Z"
    },
    "hide_input": false
   },
   "outputs": [
    {
     "name": "stdout",
     "output_type": "stream",
     "text": [
      "Overwriting src/graph_utils.py\n"
     ]
    }
   ],
   "source": [
    "%%writefile src/graph_utils.py\n",
    "\n",
    "import numpy as np\n",
    "\n",
    "def generate_erdos_renyi(n, M, filename=\"erdos_graph.csv\"):    \n",
    "\n",
    "    if M <= 1:\n",
    "        # This is a probability\n",
    "        raise Exception(\"Generating from a probability is not implemented\")\n",
    "                    \n",
    "    else:\n",
    "        # This is the number of edges\n",
    "        arr = (np.tril(np.arange(n*n).reshape(n,n)))\n",
    "        arr[range(n), range(n)] = 0\n",
    "        indices = np.nonzero(arr)\n",
    "        edges = np.random.choice(len(indices[0]), M)\n",
    "        graph_to_dump = np.array([indices[0][edges],indices[1][edges]], dtype=np.int16).T\n",
    "\n",
    "    np.savetxt(filename, graph_to_dump, delimiter=\",\")\n",
    "    \n",
    "\n",
    "def load_graph(filename):\n",
    "    edges = np.loadtxt(filename, delimiter=\",\", dtype=np.int32)\n",
    "    n = edges.max() + 1 ## Assume no isolated nodes - Get the number of elements from zero-indexed nodes\n",
    "    graph = np.zeros((n,n))\n",
    "    graph[edges[:,0], edges[:,1]] = 1\n",
    "    return graph\n",
    "\n",
    "\n",
    "def generate_nx_graph(graph_topology, filename, **kwargs):\n",
    "    import networkx as nx\n",
    "    '''\n",
    "    A function to generate a networkx graph with specified topology and \n",
    "    save it to the given file as an edge list.\n",
    "    '''\n",
    "    n = kwargs['n']\n",
    "    m = kwargs['m']\n",
    "    assert graph_topology in [\"erdos-renyi\", \"binomial\",\n",
    "                              \"barabasi-albert\",\"scale-free\",\n",
    "                              \"watts_strogatz\", \"small-worlds\"], \"Unknown graph type, try 'binomial','scale-free', or 'small-worlds'\" \n",
    "    \n",
    "    if graph_topology in [\"erdos-renyi\", \"binomial\"]:\n",
    "        g = nx.dense_gnm_random_graph(n, m)\n",
    "    elif graph_topology in [\"barabasi-albert\",\"scale-free\"]:\n",
    "        g = nx.barabasi_albert_graph(n, m//n)\n",
    "    elif graph_topology in [\"watts_strogatz-albert\",\"small-worlds\"]:\n",
    "        g = nx.watts_strogatz_graph(n, m//n*2, kwargs['rewire_probability'])\n",
    "    nx.write_edgelist(g, filename, delimiter=',', data=False)\n",
    "    return g\n",
    "    \n",
    "def get_adjacency_matrix(g):\n",
    "    import networkx as nx\n",
    "    return np.tril(nx.to_numpy_array(g))"
   ]
  },
  {
   "cell_type": "code",
   "execution_count": 13,
   "metadata": {
    "ExecuteTime": {
     "end_time": "2021-02-13T19:33:18.582392Z",
     "start_time": "2021-02-13T19:33:18.570556Z"
    },
    "hide_input": false
   },
   "outputs": [],
   "source": [
    "# %%writefile src/simulations.py\n",
    "\n",
    "import numpy as np\n",
    "\n",
    "def simulate_round_all_spreaders(infected_nodes, graph, p):    \n",
    "#     already_infected = infected_nodes.copy()\n",
    "    directed_graph = graph + graph.T\n",
    "    uninfected_nodes = 1 - infected_nodes\n",
    "    number_of_infected_neighbours = directed_graph.dot(infected_nodes)\n",
    "    infectable_nodes = np.nonzero((number_of_infected_neighbours >= 1) * uninfected_nodes)[0]\n",
    "    infection_probabilities = 1 - (1-p)**number_of_infected_neighbours\n",
    "    infection = (np.random.uniform(size=(infection_probabilities.shape)) < infection_probabilities).astype(np.int)\n",
    "    newly_infected = sum(uninfected_nodes*infection)\n",
    "    infected_nodes = (infected_nodes + infection >= 1).astype(np.int)\n",
    "    no_more_infection = len(infectable_nodes) == 0\n",
    "    return infected_nodes, newly_infected, no_more_infection    \n",
    "\n",
    "def simulate_round_all_spreaders(infected_nodes, graph, p):    \n",
    "#     already_infected = infected_nodes.copy()\n",
    "    directed_graph = graph + graph.T\n",
    "    uninfected_nodes = 1 - infected_nodes\n",
    "    number_of_infected_neighbours = directed_graph.dot(infected_nodes)\n",
    "    infectable_nodes = np.nonzero((number_of_infected_neighbours >= 1) * uninfected_nodes)[0]\n",
    "    infection_probabilities = 1 - (1-p)**number_of_infected_neighbours\n",
    "    infection = (np.random.uniform(size=(infection_probabilities.shape)) < infection_probabilities).astype(np.int)\n",
    "    newly_infected = sum(uninfected_nodes*infection)\n",
    "    infected_nodes = (infected_nodes + infection >= 1).astype(np.int)\n",
    "    no_more_infection = len(infectable_nodes) == 0\n",
    "    return infected_nodes, newly_infected, no_more_infection    \n",
    "\n",
    "def simulate_round_one_spreader(infected_nodes, graph, p):    \n",
    "#     already_infected = infected_nodes.copy()\n",
    "    directed_graph = graph + graph.T\n",
    "    uninfected_nodes = 1 - infected_nodes\n",
    "#     if len(infectable_nodes) > 0 :\n",
    "#         an_infectable_node = np.random.choice(infectable_nodes)\n",
    "    an_infected_node = np.random.choice(np.nonzero(infected_nodes)[0])\n",
    "    adjecent = np.nonzero(directed_graph[an_infected_node,:])[0]\n",
    "    infection = np.random.uniform(size=len(adjecent)) < p\n",
    "    newly_infected = sum(uninfected_nodes[adjecent[infection]])\n",
    "    infected_nodes[adjecent[infection]] += 1\n",
    "    infected_nodes = (infected_nodes >= 1).astype(np.int)\n",
    "    infectable_nodes = np.nonzero((directed_graph.dot(infected_nodes) >= 1) * uninfected_nodes)[0]\n",
    "    no_more_infection = len(infectable_nodes) == 0\n",
    "    return infected_nodes, newly_infected, no_more_infection\n",
    "\n",
    "    \n",
    "\n",
    "def simulation(graph, p, initial_infection, spread_type=\"one-spreader\"):\n",
    "    if spread_type == \"one-spreader\":\n",
    "        sim_func = simulate_round_one_spreader\n",
    "    elif spread_type == \"all-spreader\":\n",
    "        sim_func = simulate_round_all_spreaders\n",
    "        \n",
    "    roundly_infection = []\n",
    "    running_total = []\n",
    "    total_infected = len(initial_infection)\n",
    "    roundly_infection.append(total_infected)\n",
    "        \n",
    "    n = graph.shape[0]\n",
    "    infected_nodes = np.zeros((n,1))\n",
    "    infected_nodes[initial_infection] = 1\n",
    "    end_of_simulation = False\n",
    "    while not end_of_simulation:\n",
    "        running_total.append(total_infected)\n",
    "        infected_nodes,newly_infected, end_of_simulation = sim_func(infected_nodes,graph,p)\n",
    "        roundly_infection.append(int(newly_infected))\n",
    "        total_infected += int(newly_infected)\n",
    "    return roundly_infection, running_total\n",
    "\n",
    "def simulate_round_all_spreaders_immunized(infected_nodes, graph, p, immunized_nodes):    \n",
    "#     already_infected = infected_nodes.copy()\n",
    "    directed_graph = graph + graph.T\n",
    "    uninfected_nodes = 1 - infected_nodes\n",
    "    not_immunized_nodes = 1 - immunized_nodes\n",
    "    number_of_infected_neighbours = directed_graph.dot(infected_nodes)\n",
    "    infectable_nodes = np.nonzero((number_of_infected_neighbours >= 1) * uninfected_nodes * not_immunized_nodes)[0]\n",
    "    infection_probabilities = 1 - (1-p)**number_of_infected_neighbours\n",
    "    infection = (np.random.uniform(size=(infection_probabilities.shape)) < infection_probabilities).astype(np.int)\n",
    "    newly_infected = sum(uninfected_nodes*infection*not_immunized_nodes)\n",
    "    infected_nodes = (infected_nodes + infection - immunized_nodes >= 1).astype(np.int)\n",
    "    no_more_infection = len(infectable_nodes) == 0\n",
    "    return infected_nodes, newly_infected, no_more_infection\n",
    "\n",
    "    \n",
    "\n",
    "def cured_simulation(graph, pi, initial_infection, pc, initial_cure, spread_type=\"one-spreader\" ):\n",
    "    if spread_type == \"one-spreader\":\n",
    "#         raise Exception(\"Cured simulation supports only all spreaders\")\n",
    "        sim_func = simulate_round_one_spreader\n",
    "    elif spread_type == \"all-spreader\":\n",
    "        sim_func = simulate_round_all_spreaders\n",
    "#         sim_func = simulate_round_all_spreaders_immunized\n",
    "        \n",
    "    roundly_infection = []\n",
    "    roundly_cured = []\n",
    "\n",
    "    running_total_infection = []\n",
    "    running_total_cured = []\n",
    "    \n",
    "    \n",
    "    total_infected = len(initial_infection)\n",
    "    roundly_infection.append(total_infected)\n",
    "    \n",
    "    total_cured = len(initial_cure)\n",
    "    roundly_cured.append(total_cured)\n",
    "    \n",
    "    n = graph.shape[0]\n",
    "    infected_nodes = np.zeros((n,1))\n",
    "    infected_nodes[initial_infection] = 1\n",
    "    cured_nodes = np.zeros((n,1))\n",
    "    cured_nodes[initial_cure] = 1\n",
    "    \n",
    "    infected_nodes = (infected_nodes - cured_nodes > 0).astype(np.int)\n",
    "    end_of_simulation = False\n",
    "#     k = 0\n",
    "    while not end_of_simulation:\n",
    "\n",
    "        running_total_infection.append(total_infected)\n",
    "        running_total_cured.append(total_cured)\n",
    "        \n",
    "        # Infection \n",
    "        infected_nodes_new, _, _ = sim_func(infected_nodes,graph,pi)\n",
    "        # Remove false infections - infections of already cured nodes\n",
    "        # This step is unnecessary as we do not use infected_nodes until new round of cures are also applied.\n",
    "        # So consider removing for slight performance increase.\n",
    "        infected_nodes_new = (infected_nodes_new - cured_nodes > 0).astype(np.int)\n",
    "        \n",
    "        # Number of newly infected nodes. A node in infected_nodes_new is newly and trulinfected\n",
    "        newly_infected = np.sum((infected_nodes_new - infected_nodes - cured_nodes > 0))\n",
    "        infected_nodes = infected_nodes_new\n",
    "        \n",
    "        # Cure Spread\n",
    "        cured_nodes, newly_cured, _ = sim_func(cured_nodes,graph,pc)\n",
    "        # Apply Cure\n",
    "        infected_nodes = (infected_nodes - cured_nodes > 0).astype(np.int)\n",
    "        \n",
    "        roundly_infection.append(int(newly_infected))\n",
    "        total_infected += newly_infected\n",
    "        roundly_cured.append(int(newly_cured))\n",
    "        total_cured = np.sum(cured_nodes)\n",
    "        \n",
    "        end_of_simulation = sum(infected_nodes) == 0\n",
    "    return roundly_infection, running_total_infection, roundly_cured, running_total_cured"
   ]
  },
  {
   "cell_type": "markdown",
   "metadata": {},
   "source": [
    "## Experiments"
   ]
  },
  {
   "cell_type": "code",
   "execution_count": 8,
   "metadata": {
    "ExecuteTime": {
     "end_time": "2021-02-14T09:16:00.672776Z",
     "start_time": "2021-02-14T09:16:00.666881Z"
    }
   },
   "outputs": [],
   "source": [
    "import src.simulations as simulations\n",
    "import numpy as np\n",
    "def run_simulation_over_graph(graph, p,number_of_runs, n_initial_infection, spread_type='all-spreader', **kwargs):\n",
    "    if kwargs.get('add_cure') in [None, False]:\n",
    "        initial_infection_list = []\n",
    "        total_infection_list  = []\n",
    "        roundly_infection_list = []\n",
    "        for i in range(number_of_runs):\n",
    "            initial_infection = np.random.randint(graph.shape[0], size=n_initial_infection)\n",
    "            initial_infection_list.append(initial_infection)\n",
    "            roundly_infection, running_total = simulations.simulation(graph,p,initial_infection,spread_type=spread_type)\n",
    "            roundly_infection_list.append(roundly_infection)\n",
    "            total_infection_list.append(running_total)\n",
    "            if kwargs.get('debug'):\n",
    "                print(f\"Run {i} took {len(running_total)} steps\")\n",
    "        return initial_infection_list, total_infection_list, roundly_infection_list\n",
    "    else:\n",
    "        pc = kwargs['pc']\n",
    "        n_initial_cure = kwargs['n_initial_cure']\n",
    "        initial_infection_list = []\n",
    "        total_infection_list  = []\n",
    "        roundly_infection_list = []\n",
    "        \n",
    "        initial_cured_list = []\n",
    "        total_cured_list  = []\n",
    "        roundly_cured_list = []\n",
    "        \n",
    "        for i in range(number_of_runs):\n",
    "            initial_infection = np.random.randint(graph.shape[0], size=n_initial_infection)\n",
    "            initial_cured = np.random.randint(graph.shape[0], size=n_initial_cure)\n",
    "            \n",
    "            initial_infection_list.append(initial_infection)\n",
    "            initial_cured_list.append(initial_cured)\n",
    "            \n",
    "            \n",
    "            (roundly_infection, running_total_infection,\n",
    "             roundly_cured, running_total_cured) = simulations.simulation(graph,p,\n",
    "                                                                          initial_infection,spread_type=spread_type)\n",
    "            roundly_infection_list.append(roundly_infection)\n",
    "            total_infection_list.append(running_total)        \n",
    "            roundly_cured_list.append(roundly_infection)\n",
    "            total_cured_list.append(running_total)\n",
    "            \n",
    "            if kwargs.get('debug'):\n",
    "                print(f\"Run {i} took {len(running_total)} steps\")\n",
    "            \n",
    "        return (initial_infection_list, total_infection_list, roundly_infection_list,\n",
    "                initial_cured_list, total_cured_list, roundly_cured_list)\n"
   ]
  },
  {
   "cell_type": "code",
   "execution_count": 2,
   "metadata": {
    "ExecuteTime": {
     "end_time": "2021-02-14T09:14:24.410574Z",
     "start_time": "2021-02-14T09:14:24.408013Z"
    }
   },
   "outputs": [],
   "source": [
    "def padded_stack(list_to_stack):\n",
    "    max_size = max([len(a) for a in list_to_stack])\n",
    "    padded_list = [np.pad(np.array(a),pad_width=(0,max_size-len(a)), mode='edge') for a in list_to_stack]\n",
    "    return np.stack(padded_list)"
   ]
  },
  {
   "cell_type": "code",
   "execution_count": 3,
   "metadata": {
    "ExecuteTime": {
     "end_time": "2021-02-14T09:14:25.106506Z",
     "start_time": "2021-02-14T09:14:25.104369Z"
    }
   },
   "outputs": [],
   "source": [
    "pi = 0.01\n",
    "initial_infection = [1]\n",
    "pc = 0.0001\n",
    "initial_cured = [400]\n",
    "n = 500\n",
    "m = 1000"
   ]
  },
  {
   "cell_type": "code",
   "execution_count": 26,
   "metadata": {
    "ExecuteTime": {
     "end_time": "2021-02-14T09:27:51.628416Z",
     "start_time": "2021-02-14T09:27:51.238741Z"
    }
   },
   "outputs": [],
   "source": [
    "import src.graph_utils as utils\n",
    "import matplotlib.pyplot as plt"
   ]
  },
  {
   "cell_type": "code",
   "execution_count": 143,
   "metadata": {
    "ExecuteTime": {
     "end_time": "2021-02-14T19:13:41.637252Z",
     "start_time": "2021-02-14T19:13:41.630175Z"
    }
   },
   "outputs": [],
   "source": [
    "g = utils.generate_nx_graph(\"small-worlds\", \"graph.csv\", n=500, m=1000, rewire_probability=0.6)\n",
    "#     g = utils.load_graph(\"graph.csv\""
   ]
  },
  {
   "cell_type": "code",
   "execution_count": 139,
   "metadata": {
    "ExecuteTime": {
     "end_time": "2021-02-14T19:12:51.536467Z",
     "start_time": "2021-02-14T19:12:51.534453Z"
    }
   },
   "outputs": [],
   "source": [
    "import networkx as nx"
   ]
  },
  {
   "cell_type": "code",
   "execution_count": 9,
   "metadata": {
    "ExecuteTime": {
     "end_time": "2021-02-14T09:18:33.424889Z",
     "start_time": "2021-02-14T09:16:08.489275Z"
    },
    "code_folding": [
     2
    ]
   },
   "outputs": [
    {
     "name": "stdout",
     "output_type": "stream",
     "text": [
      "Erdos-Renyi\n",
      "Graph 0 is completed\n",
      "Graph 1 is completed\n",
      "Graph 2 is completed\n",
      "Graph 3 is completed\n",
      "Graph 4 is completed\n",
      "Graph 5 is completed\n",
      "Graph 6 is completed\n",
      "Graph 7 is completed\n",
      "Graph 8 is completed\n",
      "Graph 9 is completed\n"
     ]
    }
   ],
   "source": [
    "print(\"Erdos-Renyi\")\n",
    "binomial = []\n",
    "for i in range(10):\n",
    "    utils.generate_nx_graph(\"erdos-renyi\", \"graph.csv\", n=500, m=1000)\n",
    "    g = utils.load_graph(\"graph.csv\")\n",
    "    res = run_simulation_over_graph(g, pi, number_of_runs=20, n_initial_infection=2)\n",
    "    binomial.append(res)\n",
    "    print(f\"Graph {i} is completed\")    "
   ]
  },
  {
   "cell_type": "code",
   "execution_count": 11,
   "metadata": {
    "ExecuteTime": {
     "end_time": "2021-02-14T09:20:17.062215Z",
     "start_time": "2021-02-14T09:18:40.918377Z"
    }
   },
   "outputs": [
    {
     "name": "stdout",
     "output_type": "stream",
     "text": [
      "Scale-free\n",
      "Graph 0 is completed\n",
      "Graph 1 is completed\n",
      "Graph 2 is completed\n",
      "Graph 3 is completed\n",
      "Graph 4 is completed\n",
      "Graph 5 is completed\n",
      "Graph 6 is completed\n",
      "Graph 7 is completed\n",
      "Graph 8 is completed\n",
      "Graph 9 is completed\n"
     ]
    }
   ],
   "source": [
    "print(\"Scale-free\")\n",
    "scalefree = []\n",
    "for i in range(10):\n",
    "    utils.generate_nx_graph(\"scale-free\", \"graph.csv\", n=500, m=1000)\n",
    "    g = utils.load_graph(\"graph.csv\")\n",
    "    res = run_simulation_over_graph(g, pi, number_of_runs=20, n_initial_infection=2)\n",
    "    scalefree.append(res)\n",
    "    print(f\"Graph {i} is completed\")        "
   ]
  },
  {
   "cell_type": "code",
   "execution_count": 58,
   "metadata": {
    "ExecuteTime": {
     "end_time": "2021-02-14T12:28:30.861698Z",
     "start_time": "2021-02-14T12:26:46.909783Z"
    }
   },
   "outputs": [
    {
     "name": "stdout",
     "output_type": "stream",
     "text": [
      "Small-worlds\n",
      "Graph 0 is completed\n",
      "Graph 1 is completed\n",
      "Graph 2 is completed\n",
      "Graph 3 is completed\n",
      "Graph 4 is completed\n",
      "Graph 5 is completed\n",
      "Graph 6 is completed\n",
      "Graph 7 is completed\n",
      "Graph 8 is completed\n",
      "Graph 9 is completed\n"
     ]
    }
   ],
   "source": [
    "print(\"Small-worlds\")\n",
    "smallworlds06 = []\n",
    "for i in range(10):\n",
    "    utils.generate_nx_graph(\"small-worlds\", \"graph.csv\", n=500, m=1000, rewire_probability=0.6)\n",
    "    g = utils.load_graph(\"graph.csv\")\n",
    "    res = run_simulation_over_graph(g, pi, number_of_runs=20, n_initial_infection=2)\n",
    "    smallworlds06.append(res)\n",
    "    print(f\"Graph {i} is completed\")        "
   ]
  },
  {
   "cell_type": "code",
   "execution_count": 136,
   "metadata": {
    "ExecuteTime": {
     "end_time": "2021-02-14T19:10:48.068947Z",
     "start_time": "2021-02-14T19:10:47.832308Z"
    },
    "scrolled": false
   },
   "outputs": [
    {
     "data": {
      "text/plain": [
       "(0.0, 800.0)"
      ]
     },
     "execution_count": 136,
     "metadata": {},
     "output_type": "execute_result"
    },
    {
     "data": {
      "image/png": "[encoded data removed]",
      "text/plain": [
       "<Figure size 432x288 with 1 Axes>"
      ]
     },
     "metadata": {
      "needs_background": "light"
     },
     "output_type": "display_data"
    }
   ],
   "source": [
    "results = [binomial, scalefree,smallworlds06, smallworlds, smallworlds01]\n",
    "labels = [\"Erdos-Renyi\", \"Barabassi-Albert\", \"Watts-Strogatz p=0.6\", \"Watts-Strogatz p=0.3\",  \"Watts-Strogatz p=0.1\"]\n",
    "for result in results:\n",
    "    res_arr = [padded_stack(res[1]) for res in result]\n",
    "    means = [np.mean(res, axis=0) for res in res_arr]\n",
    "    mean = np.median(padded_stack(means), axis=0)\n",
    "    std = np.std(padded_stack(means), axis=0)\n",
    "    plt.plot(mean)    \n",
    "    plt.fill_between(range(mean.shape[0]), mean-std, mean+std, alpha=0.3)  \n",
    "    plt.legend(labels)\n",
    "plt.xlabel(\"Simulation Step\", size=12)\n",
    "plt.ylabel(\"Number of Infected Nodes\", size=12)\n",
    "plt.xlim([0,800])\n",
    "# plt.savefig(\"img/total_infection_no_cure.pdf\", format='pdf')"
   ]
  },
  {
   "cell_type": "code",
   "execution_count": 123,
   "metadata": {
    "ExecuteTime": {
     "end_time": "2021-02-14T19:03:19.377436Z",
     "start_time": "2021-02-14T19:03:19.374802Z"
    }
   },
   "outputs": [
    {
     "data": {
      "text/plain": [
       "10"
      ]
     },
     "execution_count": 123,
     "metadata": {},
     "output_type": "execute_result"
    }
   ],
   "source": [
    "len(res_arr)"
   ]
  },
  {
   "cell_type": "code",
   "execution_count": 128,
   "metadata": {
    "ExecuteTime": {
     "end_time": "2021-02-14T19:06:05.566657Z",
     "start_time": "2021-02-14T19:06:05.563441Z"
    }
   },
   "outputs": [
    {
     "data": {
      "text/plain": [
       "200"
      ]
     },
     "execution_count": 128,
     "metadata": {},
     "output_type": "execute_result"
    }
   ],
   "source": [
    "len(flat_list)"
   ]
  },
  {
   "cell_type": "code",
   "execution_count": 149,
   "metadata": {
    "ExecuteTime": {
     "end_time": "2021-02-14T19:31:26.334188Z",
     "start_time": "2021-02-14T19:31:25.870747Z"
    }
   },
   "outputs": [
    {
     "name": "stdout",
     "output_type": "stream",
     "text": [
      "Erdos-Renyi 673.0 677.89 200\n",
      "Barabassi-Albert 447.5 454.6 200\n",
      "Watts-Strogatz p=0.6 486.0 492.205 200\n",
      "Watts-Strogatz p=0.3 523.5 531.325 200\n",
      "Watts-Strogatz p=0.1 746.5 749.15 200\n"
     ]
    },
    {
     "data": {
      "image/png": "[encoded data removed]",
      "text/plain": [
       "<Figure size 432x288 with 6 Axes>"
      ]
     },
     "metadata": {
      "needs_background": "light"
     },
     "output_type": "display_data"
    }
   ],
   "source": [
    "results = [binomial, scalefree, smallworlds06,   smallworlds, smallworlds01]\n",
    "labels = [\"Erdos-Renyi\", \"Barabassi-Albert\", \"Watts-Strogatz p=0.6\",  \"Watts-Strogatz p=0.3\",  \"Watts-Strogatz p=0.1\"]\n",
    "fig, axs = plt.subplots(3,2)\n",
    "for k,result in enumerate(results):\n",
    "    res_arr = [[len(r) for r in res[1]] for res in result]\n",
    "    res_arr = [item for sublist in res_arr for item in sublist]\n",
    "    print(labels[k], np.median(res_arr),np.mean(res_arr), len(res_arr))\n",
    "    axs[k//2][k%2].hist(res_arr)\n",
    "    axs[k//2][k%2].set_title(labels[k])\n",
    "plt.tight_layout()\n",
    "#     mean = np.mean(res_arr, axis=0)\n",
    "#     std = np.std(padded_stack(means), axis=0)\n",
    "#     plt.plot(mean)    \n",
    "#     plt.fill_between(range(mean.shape[0]), mean-std, mean+std, alpha=0.3)  \n",
    "#     plt.legend(labels)\n",
    "# plt.xlabel(\"Simulation Step\", size=12)\n",
    "# plt.ylabel(\"Number of Infected Nodes\", size=12)\n",
    "# plt.xlim([0,800])\n",
    "# plt.savefig(\"img/total_infection_no_cure.pdf\", format='pdf')"
   ]
  },
  {
   "cell_type": "code",
   "execution_count": null,
   "metadata": {},
   "outputs": [],
   "source": []
  },
  {
   "cell_type": "code",
   "execution_count": 87,
   "metadata": {
    "ExecuteTime": {
     "end_time": "2021-02-14T18:46:51.890425Z",
     "start_time": "2021-02-14T18:46:51.878256Z"
    }
   },
   "outputs": [
    {
     "ename": "ValueError",
     "evalue": "too many values to unpack (expected 3)",
     "output_type": "error",
     "traceback": [
      "\u001b[0;31m---------------------------------------------------------------------------\u001b[0m",
      "\u001b[0;31mValueError\u001b[0m                                Traceback (most recent call last)",
      "\u001b[0;32m<ipython-input-87-d9f122f6d097>\u001b[0m in \u001b[0;36m<module>\u001b[0;34m\u001b[0m\n\u001b[1;32m      2\u001b[0m \u001b[0mlabels\u001b[0m \u001b[0;34m=\u001b[0m \u001b[0;34m[\u001b[0m\u001b[0;34m\"Erdos-Renyi\"\u001b[0m\u001b[0;34m,\u001b[0m \u001b[0;34m\"Barabassi-Albert\"\u001b[0m\u001b[0;34m,\u001b[0m \u001b[0;34m\"Watts-Strogatz p=0.3\"\u001b[0m\u001b[0;34m,\u001b[0m  \u001b[0;34m\"Watts-Strogatz p=0.1\"\u001b[0m\u001b[0;34m]\u001b[0m\u001b[0;34m\u001b[0m\u001b[0;34m\u001b[0m\u001b[0m\n\u001b[1;32m      3\u001b[0m \u001b[0;32mfor\u001b[0m \u001b[0mresult\u001b[0m \u001b[0;32min\u001b[0m \u001b[0mresults\u001b[0m\u001b[0;34m:\u001b[0m\u001b[0;34m\u001b[0m\u001b[0;34m\u001b[0m\u001b[0m\n\u001b[0;32m----> 4\u001b[0;31m     \u001b[0minitial_infections\u001b[0m\u001b[0;34m,\u001b[0m \u001b[0mtotal_infection\u001b[0m\u001b[0;34m,\u001b[0m \u001b[0mroundly_infection\u001b[0m \u001b[0;34m=\u001b[0m \u001b[0mresult\u001b[0m\u001b[0;34m\u001b[0m\u001b[0;34m\u001b[0m\u001b[0m\n\u001b[0m\u001b[1;32m      5\u001b[0m     \u001b[0mres_arr\u001b[0m \u001b[0;34m=\u001b[0m \u001b[0mpadded_stack\u001b[0m\u001b[0;34m(\u001b[0m\u001b[0mroundly_infection\u001b[0m\u001b[0;34m)\u001b[0m\u001b[0;34m\u001b[0m\u001b[0;34m\u001b[0m\u001b[0m\n\u001b[1;32m      6\u001b[0m     \u001b[0mmean\u001b[0m \u001b[0;34m=\u001b[0m \u001b[0mnp\u001b[0m\u001b[0;34m.\u001b[0m\u001b[0mmean\u001b[0m\u001b[0;34m(\u001b[0m\u001b[0mres_arr\u001b[0m\u001b[0;34m,\u001b[0m \u001b[0maxis\u001b[0m\u001b[0;34m=\u001b[0m\u001b[0;36m0\u001b[0m\u001b[0;34m)\u001b[0m\u001b[0;34m\u001b[0m\u001b[0;34m\u001b[0m\u001b[0m\n",
      "\u001b[0;31mValueError\u001b[0m: too many values to unpack (expected 3)"
     ]
    }
   ],
   "source": [
    "results = [binomial, scalefree, smallworlds, smallworlds01]\n",
    "labels = [\"Erdos-Renyi\", \"Barabassi-Albert\", \"Watts-Strogatz\"]\n",
    "for result in results:\n",
    "    initial_infections, total_infection, roundly_infection = result\n",
    "    res_arr = padded_stack(roundly_infection)\n",
    "    mean = np.mean(res_arr, axis=0)\n",
    "    std = np.std(res_arr, axis=0)\n",
    "    plt.plot(mean)    \n",
    "    plt.fill_between(range(res_arr.shape[1]), mean-std, mean+std, alpha=0.3)  \n",
    "    plt.legend(labels)"
   ]
  },
  {
   "cell_type": "code",
   "execution_count": 145,
   "metadata": {
    "ExecuteTime": {
     "end_time": "2021-02-14T09:13:10.513542Z",
     "start_time": "2021-02-14T09:13:10.351528Z"
    }
   },
   "outputs": [
    {
     "data": {
      "image/png": "[encoded data removed]",
      "text/plain": [
       "<Figure size 432x288 with 1 Axes>"
      ]
     },
     "metadata": {
      "needs_background": "light"
     },
     "output_type": "display_data"
    }
   ],
   "source": [
    "results = [binomial, scalefree, smallworlds]\n",
    "labels = [\"Binomial\", \"Scalefree\", \"Smallworlds\"]\n",
    "for i, result in enumerate(results):\n",
    "    initial_infections, total_infection, roundly_infection = result\n",
    "    res_arr = padded_stack(total_infection)\n",
    "    mean = np.mean(res_arr, axis=0)\n",
    "    std = np.std(res_arr, axis=0)\n",
    "    plt.plot(mean, label=labels[i])    \n",
    "    plt.fill_between(range(res_arr.shape[1]), mean-std, mean+std, alpha=0.3)  \n",
    "    plt.legend(labels)"
   ]
  },
  {
   "cell_type": "code",
   "execution_count": 90,
   "metadata": {
    "ExecuteTime": {
     "end_time": "2021-02-14T18:48:23.774051Z",
     "start_time": "2021-02-14T18:48:23.463961Z"
    }
   },
   "outputs": [
    {
     "data": {
      "image/png": "[encoded data removed]",
      "text/plain": [
       "<Figure size 432x288 with 1 Axes>"
      ]
     },
     "metadata": {
      "needs_background": "light"
     },
     "output_type": "display_data"
    }
   ],
   "source": [
    "results = [binomial, scalefree, smallworlds, smallworlds01]\n",
    "labels = [\"Erdos-Renyi\", \"Barabassi-Albert\", \"Watts-Strogatz p=0.3\",  \"Watts-Strogatz p=0.1\"]\n",
    "for result in results:\n",
    "    res_arr = [padded_stack(res[2]) for res in result]\n",
    "    means = [np.mean(res, axis=0) for res in res_arr]\n",
    "    mean = np.mean(padded_stack(means), axis=0)\n",
    "    std = np.std(padded_stack(means), axis=0)\n",
    "    plt.plot(mean)    \n",
    "    plt.fill_between(range(mean.shape[0]), mean-std, mean+std, alpha=0.3)  \n",
    "    plt.legend(labels)\n",
    "plt.xlabel(\"Simulation Step\", size=12)\n",
    "plt.ylabel(\"Number of Infected Nodes\", size=12)\n",
    "plt.savefig(\"img/roundly_infection_no_cure.pdf\", format='pdf')"
   ]
  },
  {
   "cell_type": "code",
   "execution_count": 60,
   "metadata": {
    "ExecuteTime": {
     "end_time": "2021-02-13T22:39:00.827137Z",
     "start_time": "2021-02-13T22:39:00.825018Z"
    }
   },
   "outputs": [],
   "source": [
    "import networkx as nx"
   ]
  },
  {
   "cell_type": "code",
   "execution_count": 130,
   "metadata": {
    "ExecuteTime": {
     "end_time": "2021-02-13T23:33:46.883422Z",
     "start_time": "2021-02-13T23:33:46.868868Z"
    }
   },
   "outputs": [
    {
     "name": "stdout",
     "output_type": "stream",
     "text": [
      "Erdos-Renyi\n"
     ]
    }
   ],
   "source": [
    "print(\"Erdos-Renyi\")\n",
    "g = utils.generate_nx_graph(\"small-worlds\", \"graph.csv\", n=500, m=1000,rewire_probability=1)\n",
    "# g = utils.load_graph(\"graph.csv\")"
   ]
  },
  {
   "cell_type": "code",
   "execution_count": 73,
   "metadata": {
    "ExecuteTime": {
     "end_time": "2021-02-13T22:44:38.816263Z",
     "start_time": "2021-02-13T22:44:38.727794Z"
    }
   },
   "outputs": [],
   "source": [
    "from networkx.algorithms import approximation"
   ]
  },
  {
   "cell_type": "code",
   "execution_count": 120,
   "metadata": {
    "ExecuteTime": {
     "end_time": "2021-02-13T23:04:32.802937Z",
     "start_time": "2021-02-13T23:04:32.782163Z"
    }
   },
   "outputs": [
    {
     "data": {
      "text/plain": [
       "2"
      ]
     },
     "execution_count": 120,
     "metadata": {},
     "output_type": "execute_result"
    }
   ],
   "source": [
    "approximation.node_connectivity(g)"
   ]
  },
  {
   "cell_type": "code",
   "execution_count": 121,
   "metadata": {
    "ExecuteTime": {
     "end_time": "2021-02-13T23:05:10.070010Z",
     "start_time": "2021-02-13T23:04:36.710221Z"
    }
   },
   "outputs": [],
   "source": [
    "independent_set = approximation.maximum_independent_set(g)"
   ]
  },
  {
   "cell_type": "markdown",
   "metadata": {},
   "source": [
    "Erdos Renyi Independent Set"
   ]
  },
  {
   "cell_type": "code",
   "execution_count": 126,
   "metadata": {
    "ExecuteTime": {
     "end_time": "2021-02-13T23:06:36.940728Z",
     "start_time": "2021-02-13T23:06:36.937868Z"
    }
   },
   "outputs": [
    {
     "data": {
      "text/plain": [
       "185"
      ]
     },
     "execution_count": 126,
     "metadata": {},
     "output_type": "execute_result"
    }
   ],
   "source": [
    "len(independent_set)"
   ]
  },
  {
   "cell_type": "markdown",
   "metadata": {},
   "source": [
    "Small Worlds IS"
   ]
  },
  {
   "cell_type": "code",
   "execution_count": 106,
   "metadata": {
    "ExecuteTime": {
     "end_time": "2021-02-13T23:01:22.326044Z",
     "start_time": "2021-02-13T23:01:22.323053Z"
    }
   },
   "outputs": [
    {
     "data": {
      "text/plain": [
       "193"
      ]
     },
     "execution_count": 106,
     "metadata": {},
     "output_type": "execute_result"
    }
   ],
   "source": [
    "len(independent_set)"
   ]
  },
  {
   "cell_type": "code",
   "execution_count": 87,
   "metadata": {
    "ExecuteTime": {
     "end_time": "2021-02-13T22:56:11.673408Z",
     "start_time": "2021-02-13T22:56:11.670267Z"
    },
    "scrolled": true
   },
   "outputs": [
    {
     "data": {
      "text/plain": [
       "235"
      ]
     },
     "execution_count": 87,
     "metadata": {},
     "output_type": "execute_result"
    }
   ],
   "source": [
    "len(independent_set)"
   ]
  },
  {
   "cell_type": "code",
   "execution_count": 43,
   "metadata": {
    "ExecuteTime": {
     "end_time": "2021-02-14T12:19:46.222627Z",
     "start_time": "2021-02-14T12:19:46.214775Z"
    }
   },
   "outputs": [
    {
     "ename": "ValueError",
     "evalue": "I/O operation on closed file.",
     "output_type": "error",
     "traceback": [
      "\u001b[0;31m---------------------------------------------------------------------------\u001b[0m",
      "\u001b[0;31mValueError\u001b[0m                                Traceback (most recent call last)",
      "\u001b[0;32m<ipython-input-43-f3fc120c03c1>\u001b[0m in \u001b[0;36m<module>\u001b[0;34m\u001b[0m\n\u001b[0;32m----> 1\u001b[0;31m \u001b[0mfile\u001b[0m\u001b[0;34m.\u001b[0m\u001b[0mread\u001b[0m\u001b[0;34m(\u001b[0m\u001b[0;34m)\u001b[0m\u001b[0;34m\u001b[0m\u001b[0;34m\u001b[0m\u001b[0m\n\u001b[0m",
      "\u001b[0;31mValueError\u001b[0m: I/O operation on closed file."
     ]
    }
   ],
   "source": [
    "file.read()"
   ]
  },
  {
   "cell_type": "code",
   "execution_count": 54,
   "metadata": {
    "ExecuteTime": {
     "end_time": "2021-02-14T12:23:19.923354Z",
     "start_time": "2021-02-14T12:23:19.918380Z"
    }
   },
   "outputs": [],
   "source": [
    "cum_cases = []\n",
    "daily_cases = []\n",
    "total_last_day = 0\n",
    "with open(\"img/covid-tests-cases-deaths-per-million.csv\") as file:\n",
    "    for line in file.readlines():\n",
    "        total_today = float(line.split(\",,,\")[1].split(\",\")[0])\n",
    "        cum_cases += [total_today]\n",
    "        daily_cases += [total_today - total_last_day]\n",
    "        total_last_day =  total_today"
   ]
  },
  {
   "cell_type": "code",
   "execution_count": 55,
   "metadata": {
    "ExecuteTime": {
     "end_time": "2021-02-14T12:23:21.588297Z",
     "start_time": "2021-02-14T12:23:21.455449Z"
    }
   },
   "outputs": [
    {
     "data": {
      "text/plain": [
       "[<matplotlib.lines.Line2D at 0x7f4ba7393520>]"
      ]
     },
     "execution_count": 55,
     "metadata": {},
     "output_type": "execute_result"
    },
    {
     "data": {
      "image/png": "[encoded data removed]",
      "text/plain": [
       "<Figure size 432x288 with 1 Axes>"
      ]
     },
     "metadata": {
      "needs_background": "light"
     },
     "output_type": "display_data"
    }
   ],
   "source": [
    "plt.plot(cum_cases)"
   ]
  },
  {
   "cell_type": "code",
   "execution_count": 56,
   "metadata": {
    "ExecuteTime": {
     "end_time": "2021-02-14T12:23:31.957750Z",
     "start_time": "2021-02-14T12:23:31.827548Z"
    }
   },
   "outputs": [
    {
     "data": {
      "text/plain": [
       "[<matplotlib.lines.Line2D at 0x7f4ba7360bb0>]"
      ]
     },
     "execution_count": 56,
     "metadata": {},
     "output_type": "execute_result"
    },
    {
     "data": {
      "image/png": "[encoded data removed]",
      "text/plain": [
       "<Figure size 432x288 with 1 Axes>"
      ]
     },
     "metadata": {
      "needs_background": "light"
     },
     "output_type": "display_data"
    }
   ],
   "source": [
    "plt.plot(daily_cases)"
   ]
  },
  {
   "cell_type": "code",
   "execution_count": 39,
   "metadata": {
    "ExecuteTime": {
     "end_time": "2021-02-14T12:18:29.748315Z",
     "start_time": "2021-02-14T12:18:29.724197Z"
    }
   },
   "outputs": [
    {
     "ename": "ValueError",
     "evalue": "could not convert string to float: 'World,OWID_WRL,2020-01-22,,,0.071,0.002'",
     "output_type": "error",
     "traceback": [
      "\u001b[0;31m---------------------------------------------------------------------------\u001b[0m",
      "\u001b[0;31mValueError\u001b[0m                                Traceback (most recent call last)",
      "\u001b[0;32m<ipython-input-39-0c8c528584f2>\u001b[0m in \u001b[0;36m<module>\u001b[0;34m\u001b[0m\n\u001b[0;32m----> 1\u001b[0;31m \u001b[0mnp\u001b[0m\u001b[0;34m.\u001b[0m\u001b[0mloadtxt\u001b[0m\u001b[0;34m(\u001b[0m\u001b[0;34m\"img/covid-tests-cases-deaths-per-million.csv\"\u001b[0m\u001b[0;34m)\u001b[0m\u001b[0;34m\u001b[0m\u001b[0;34m\u001b[0m\u001b[0m\n\u001b[0m",
      "\u001b[0;32m~/centvenv/lib64/python3.8/site-packages/numpy/lib/npyio.py\u001b[0m in \u001b[0;36mloadtxt\u001b[0;34m(fname, dtype, comments, delimiter, converters, skiprows, usecols, unpack, ndmin, encoding, max_rows)\u001b[0m\n\u001b[1;32m   1137\u001b[0m         \u001b[0;31m# converting the data\u001b[0m\u001b[0;34m\u001b[0m\u001b[0;34m\u001b[0m\u001b[0;34m\u001b[0m\u001b[0m\n\u001b[1;32m   1138\u001b[0m         \u001b[0mX\u001b[0m \u001b[0;34m=\u001b[0m \u001b[0;32mNone\u001b[0m\u001b[0;34m\u001b[0m\u001b[0;34m\u001b[0m\u001b[0m\n\u001b[0;32m-> 1139\u001b[0;31m         \u001b[0;32mfor\u001b[0m \u001b[0mx\u001b[0m \u001b[0;32min\u001b[0m \u001b[0mread_data\u001b[0m\u001b[0;34m(\u001b[0m\u001b[0m_loadtxt_chunksize\u001b[0m\u001b[0;34m)\u001b[0m\u001b[0;34m:\u001b[0m\u001b[0;34m\u001b[0m\u001b[0;34m\u001b[0m\u001b[0m\n\u001b[0m\u001b[1;32m   1140\u001b[0m             \u001b[0;32mif\u001b[0m \u001b[0mX\u001b[0m \u001b[0;32mis\u001b[0m \u001b[0;32mNone\u001b[0m\u001b[0;34m:\u001b[0m\u001b[0;34m\u001b[0m\u001b[0;34m\u001b[0m\u001b[0m\n\u001b[1;32m   1141\u001b[0m                 \u001b[0mX\u001b[0m \u001b[0;34m=\u001b[0m \u001b[0mnp\u001b[0m\u001b[0;34m.\u001b[0m\u001b[0marray\u001b[0m\u001b[0;34m(\u001b[0m\u001b[0mx\u001b[0m\u001b[0;34m,\u001b[0m \u001b[0mdtype\u001b[0m\u001b[0;34m)\u001b[0m\u001b[0;34m\u001b[0m\u001b[0;34m\u001b[0m\u001b[0m\n",
      "\u001b[0;32m~/centvenv/lib64/python3.8/site-packages/numpy/lib/npyio.py\u001b[0m in \u001b[0;36mread_data\u001b[0;34m(chunk_size)\u001b[0m\n\u001b[1;32m   1065\u001b[0m \u001b[0;34m\u001b[0m\u001b[0m\n\u001b[1;32m   1066\u001b[0m             \u001b[0;31m# Convert each value according to its column and store\u001b[0m\u001b[0;34m\u001b[0m\u001b[0;34m\u001b[0m\u001b[0;34m\u001b[0m\u001b[0m\n\u001b[0;32m-> 1067\u001b[0;31m             \u001b[0mitems\u001b[0m \u001b[0;34m=\u001b[0m \u001b[0;34m[\u001b[0m\u001b[0mconv\u001b[0m\u001b[0;34m(\u001b[0m\u001b[0mval\u001b[0m\u001b[0;34m)\u001b[0m \u001b[0;32mfor\u001b[0m \u001b[0;34m(\u001b[0m\u001b[0mconv\u001b[0m\u001b[0;34m,\u001b[0m \u001b[0mval\u001b[0m\u001b[0;34m)\u001b[0m \u001b[0;32min\u001b[0m \u001b[0mzip\u001b[0m\u001b[0;34m(\u001b[0m\u001b[0mconverters\u001b[0m\u001b[0;34m,\u001b[0m \u001b[0mvals\u001b[0m\u001b[0;34m)\u001b[0m\u001b[0;34m]\u001b[0m\u001b[0;34m\u001b[0m\u001b[0;34m\u001b[0m\u001b[0m\n\u001b[0m\u001b[1;32m   1068\u001b[0m \u001b[0;34m\u001b[0m\u001b[0m\n\u001b[1;32m   1069\u001b[0m             \u001b[0;31m# Then pack it according to the dtype's nesting\u001b[0m\u001b[0;34m\u001b[0m\u001b[0;34m\u001b[0m\u001b[0;34m\u001b[0m\u001b[0m\n",
      "\u001b[0;32m~/centvenv/lib64/python3.8/site-packages/numpy/lib/npyio.py\u001b[0m in \u001b[0;36m<listcomp>\u001b[0;34m(.0)\u001b[0m\n\u001b[1;32m   1065\u001b[0m \u001b[0;34m\u001b[0m\u001b[0m\n\u001b[1;32m   1066\u001b[0m             \u001b[0;31m# Convert each value according to its column and store\u001b[0m\u001b[0;34m\u001b[0m\u001b[0;34m\u001b[0m\u001b[0;34m\u001b[0m\u001b[0m\n\u001b[0;32m-> 1067\u001b[0;31m             \u001b[0mitems\u001b[0m \u001b[0;34m=\u001b[0m \u001b[0;34m[\u001b[0m\u001b[0mconv\u001b[0m\u001b[0;34m(\u001b[0m\u001b[0mval\u001b[0m\u001b[0;34m)\u001b[0m \u001b[0;32mfor\u001b[0m \u001b[0;34m(\u001b[0m\u001b[0mconv\u001b[0m\u001b[0;34m,\u001b[0m \u001b[0mval\u001b[0m\u001b[0;34m)\u001b[0m \u001b[0;32min\u001b[0m \u001b[0mzip\u001b[0m\u001b[0;34m(\u001b[0m\u001b[0mconverters\u001b[0m\u001b[0;34m,\u001b[0m \u001b[0mvals\u001b[0m\u001b[0;34m)\u001b[0m\u001b[0;34m]\u001b[0m\u001b[0;34m\u001b[0m\u001b[0;34m\u001b[0m\u001b[0m\n\u001b[0m\u001b[1;32m   1068\u001b[0m \u001b[0;34m\u001b[0m\u001b[0m\n\u001b[1;32m   1069\u001b[0m             \u001b[0;31m# Then pack it according to the dtype's nesting\u001b[0m\u001b[0;34m\u001b[0m\u001b[0;34m\u001b[0m\u001b[0;34m\u001b[0m\u001b[0m\n",
      "\u001b[0;32m~/centvenv/lib64/python3.8/site-packages/numpy/lib/npyio.py\u001b[0m in \u001b[0;36mfloatconv\u001b[0;34m(x)\u001b[0m\n\u001b[1;32m    761\u001b[0m         \u001b[0;32mif\u001b[0m \u001b[0;34m'0x'\u001b[0m \u001b[0;32min\u001b[0m \u001b[0mx\u001b[0m\u001b[0;34m:\u001b[0m\u001b[0;34m\u001b[0m\u001b[0;34m\u001b[0m\u001b[0m\n\u001b[1;32m    762\u001b[0m             \u001b[0;32mreturn\u001b[0m \u001b[0mfloat\u001b[0m\u001b[0;34m.\u001b[0m\u001b[0mfromhex\u001b[0m\u001b[0;34m(\u001b[0m\u001b[0mx\u001b[0m\u001b[0;34m)\u001b[0m\u001b[0;34m\u001b[0m\u001b[0;34m\u001b[0m\u001b[0m\n\u001b[0;32m--> 763\u001b[0;31m         \u001b[0;32mreturn\u001b[0m \u001b[0mfloat\u001b[0m\u001b[0;34m(\u001b[0m\u001b[0mx\u001b[0m\u001b[0;34m)\u001b[0m\u001b[0;34m\u001b[0m\u001b[0;34m\u001b[0m\u001b[0m\n\u001b[0m\u001b[1;32m    764\u001b[0m \u001b[0;34m\u001b[0m\u001b[0m\n\u001b[1;32m    765\u001b[0m     \u001b[0mtyp\u001b[0m \u001b[0;34m=\u001b[0m \u001b[0mdtype\u001b[0m\u001b[0;34m.\u001b[0m\u001b[0mtype\u001b[0m\u001b[0;34m\u001b[0m\u001b[0;34m\u001b[0m\u001b[0m\n",
      "\u001b[0;31mValueError\u001b[0m: could not convert string to float: 'World,OWID_WRL,2020-01-22,,,0.071,0.002'"
     ]
    }
   ],
   "source": [
    "np.loadtxt(\"img/covid-tests-cases-deaths-per-million.csv\")"
   ]
  }
 ],
 "metadata": {
  "kernelspec": {
   "display_name": "Python 3",
   "language": "python",
   "name": "python3"
  },
  "language_info": {
   "codemirror_mode": {
    "name": "ipython",
    "version": 3
   },
   "file_extension": ".py",
   "mimetype": "text/x-python",
   "name": "python",
   "nbconvert_exporter": "python",
   "pygments_lexer": "ipython3",
   "version": "3.8.3"
  },
  "toc": {
   "base_numbering": 1,
   "nav_menu": {},
   "number_sections": true,
   "sideBar": true,
   "skip_h1_title": false,
   "title_cell": "Table of Contents",
   "title_sidebar": "Contents",
   "toc_cell": false,
   "toc_position": {},
   "toc_section_display": true,
   "toc_window_display": false
  }
 },
 "nbformat": 4,
 "nbformat_minor": 4
}
